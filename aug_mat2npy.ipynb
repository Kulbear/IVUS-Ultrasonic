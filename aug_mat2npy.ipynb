{
 "cells": [
  {
   "cell_type": "code",
   "execution_count": 1,
   "metadata": {},
   "outputs": [],
   "source": [
    "import os\n",
    "import os.path as path\n",
    "\n",
    "import numpy as np\n",
    "import scipy.io as sio"
   ]
  },
  {
   "cell_type": "code",
   "execution_count": 2,
   "metadata": {},
   "outputs": [],
   "source": [
    "data_dir = 'Aug_FILES'\n",
    "source_dir = 'MAT_FILES'\n",
    "\n",
    "try:\n",
    "    os.listdir(data_dir)\n",
    "except:\n",
    "    os.mkdir(data_dir)"
   ]
  },
  {
   "cell_type": "code",
   "execution_count": 3,
   "metadata": {},
   "outputs": [
    {
     "name": "stderr",
     "output_type": "stream",
     "text": [
      "/home/jiyang/.conda/envs/altaml/lib/python3.6/site-packages/h5py/__init__.py:36: FutureWarning: Conversion of the second argument of issubdtype from `float` to `np.floating` is deprecated. In future, it will be treated as `np.float64 == np.dtype(float).type`.\n",
      "  from ._conv import register_converters as _register_converters\n"
     ]
    },
    {
     "name": "stdout",
     "output_type": "stream",
     "text": [
      "img\n",
      "(285, 256, 256)\n",
      "img_org\n",
      "(285, 512, 512)\n",
      "lumen\n",
      "(285, 512, 512)\n",
      "media\n",
      "(285, 512, 512)\n",
      "img\n",
      "(58, 256, 256)\n",
      "img_org\n",
      "(58, 512, 512)\n",
      "lumen\n",
      "(58, 512, 512)\n",
      "media\n",
      "(58, 512, 512)\n"
     ]
    }
   ],
   "source": [
    "fname = 'AugScaleNoConstraint.mat'\n",
    "import h5py\n",
    "with h5py.File(path.join(source_dir, fname), 'r') as file:\n",
    "    keys = list((file['AugScaleNoConstraint']['train']))\n",
    "    for k in keys:\n",
    "        print(k)\n",
    "        data = file['AugScaleNoConstraint']['train'][k]\n",
    "        print(data.shape)\n",
    "        np.save(path.join(data_dir, 'train_{}_{}.npy'.format(k, data.shape[1])), data)\n",
    "    \n",
    "    keys = list((file['AugScaleNoConstraint']['test']))\n",
    "    for k in keys:\n",
    "        print(k)\n",
    "        data = file['AugScaleNoConstraint']['test'][k]\n",
    "        print(data.shape)\n",
    "        np.save(path.join(data_dir, 'test_{}_{}.npy'.format(k, data.shape[1])), data)"
   ]
  },
  {
   "cell_type": "code",
   "execution_count": null,
   "metadata": {},
   "outputs": [],
   "source": []
  }
 ],
 "metadata": {
  "kernelspec": {
   "display_name": "Python 3",
   "language": "python",
   "name": "python3"
  },
  "language_info": {
   "codemirror_mode": {
    "name": "ipython",
    "version": 3
   },
   "file_extension": ".py",
   "mimetype": "text/x-python",
   "name": "python",
   "nbconvert_exporter": "python",
   "pygments_lexer": "ipython3",
   "version": "3.6.5"
  }
 },
 "nbformat": 4,
 "nbformat_minor": 2
}
