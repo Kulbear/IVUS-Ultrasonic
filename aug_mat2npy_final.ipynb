{
 "cells": [
  {
   "cell_type": "code",
   "execution_count": 1,
   "metadata": {},
   "outputs": [],
   "source": [
    "import os\n",
    "import os.path as path\n",
    "\n",
    "import h5py\n",
    "import numpy as np"
   ]
  },
  {
   "cell_type": "code",
   "execution_count": 2,
   "metadata": {},
   "outputs": [
    {
     "data": {
      "text/plain": [
       "['testSet.mat']"
      ]
     },
     "execution_count": 2,
     "metadata": {},
     "output_type": "execute_result"
    }
   ],
   "source": [
    "source_dir = 'dataset/'\n",
    "\n",
    "switch_dim = lambda x: np.rollaxis(x, -1, -2)\n",
    "    \n",
    "files = [i for i in os.listdir(source_dir) if i[-3:] == 'mat']\n",
    "files"
   ]
  },
  {
   "cell_type": "code",
   "execution_count": 3,
   "metadata": {},
   "outputs": [
    {
     "name": "stdout",
     "output_type": "stream",
     "text": [
      "['img', 'img_org', 'lumen', 'lumenBoundaries', 'media', 'mediaBoundaries']\n",
      "img\n",
      "(58, 256, 256)\n",
      "img_org\n",
      "(58, 512, 512)\n",
      "lumen\n",
      "(58, 512, 512)\n",
      "lumenBoundaries\n",
      "(58, 360, 2)\n",
      "media\n",
      "(58, 512, 512)\n",
      "mediaBoundaries\n",
      "(58, 360, 2)\n"
     ]
    }
   ],
   "source": [
    "for fname in files:\n",
    "        data_dir = fname.split('.')[0]\n",
    "        data_name = fname.split('.')[0]\n",
    "        with h5py.File(path.join(source_dir, fname), 'r') as file:\n",
    "            print(list(file['testSet']))\n",
    "            keys = list(file['testSet'])\n",
    "            for k in keys:\n",
    "                print(k)\n",
    "                data = file['testSet'][k]\n",
    "                data = switch_dim(np.array(data))\n",
    "                print(data.shape)\n",
    "                np.save(path.join(source_dir, '{}.npy'.format(k)), data)"
   ]
  },
  {
   "cell_type": "code",
   "execution_count": null,
   "metadata": {},
   "outputs": [],
   "source": []
  }
 ],
 "metadata": {
  "kernelspec": {
   "display_name": "Python 3",
   "language": "python",
   "name": "python3"
  },
  "language_info": {
   "codemirror_mode": {
    "name": "ipython",
    "version": 3
   },
   "file_extension": ".py",
   "mimetype": "text/x-python",
   "name": "python",
   "nbconvert_exporter": "python",
   "pygments_lexer": "ipython3",
   "version": "3.6.5"
  }
 },
 "nbformat": 4,
 "nbformat_minor": 2
}
