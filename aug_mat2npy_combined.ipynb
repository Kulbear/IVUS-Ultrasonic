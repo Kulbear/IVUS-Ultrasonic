{
 "cells": [
  {
   "cell_type": "code",
   "execution_count": 1,
   "metadata": {},
   "outputs": [
    {
     "name": "stderr",
     "output_type": "stream",
     "text": [
      "c:\\users\\kulbe\\miniconda3\\lib\\site-packages\\h5py\\__init__.py:36: FutureWarning: Conversion of the second argument of issubdtype from `float` to `np.floating` is deprecated. In future, it will be treated as `np.float64 == np.dtype(float).type`.\n",
      "  from ._conv import register_converters as _register_converters\n"
     ]
    }
   ],
   "source": [
    "import os\n",
    "import os.path as path\n",
    "\n",
    "import h5py\n",
    "import numpy as np"
   ]
  },
  {
   "cell_type": "code",
   "execution_count": 2,
   "metadata": {},
   "outputs": [
    {
     "data": {
      "text/plain": [
       "['ON_RBar.mat', 'ON_RHole.mat', 'ON_RLeak.mat', 'ON_RSide.mat']"
      ]
     },
     "execution_count": 2,
     "metadata": {},
     "output_type": "execute_result"
    }
   ],
   "source": [
    "source_dir = 'augmentations/concat'\n",
    "meta_dir = 'processed_augmentations'\n",
    "\n",
    "try:\n",
    "    os.listdir(meta_dir)\n",
    "except:\n",
    "    os.mkdir(meta_dir)\n",
    "    \n",
    "switch_dim = lambda x: np.rollaxis(x, -1, -2)\n",
    "    \n",
    "files = [i for i in os.listdir(source_dir) if i[-3:] == 'mat']\n",
    "files"
   ]
  },
  {
   "cell_type": "code",
   "execution_count": 3,
   "metadata": {},
   "outputs": [
    {
     "data": {
      "text/plain": [
       "(893, 256, 256)"
      ]
     },
     "execution_count": 3,
     "metadata": {},
     "output_type": "execute_result"
    }
   ],
   "source": [
    "folder = 'processed_augmentations/ON_R/'\n",
    "ON_R_img = np.load('processed_augmentations/ON_R/train_img_256.npy')\n",
    "ON_R_lumen = np.load('processed_augmentations/ON_R/train_lumen_512.npy')\n",
    "ON_R_media = np.load('processed_augmentations/ON_R/train_media_512.npy')\n",
    "ON_R_img.shape"
   ]
  },
  {
   "cell_type": "code",
   "execution_count": 4,
   "metadata": {},
   "outputs": [
    {
     "name": "stdout",
     "output_type": "stream",
     "text": [
      "processed_augmentations\\ON_RBar\n",
      "ON_RBar\n",
      "['img', 'lumen', 'media']\n",
      "img\n",
      "Select\n",
      "(2717, 256, 256)\n",
      "(2717, 256, 256)\n",
      "lumen\n",
      "(2717, 512, 512)\n",
      "(2717, 512, 512)\n",
      "media\n",
      "(2717, 512, 512)\n",
      "(2717, 512, 512)\n",
      "Done ON_RBar.mat\n",
      "processed_augmentations\\ON_RHole\n",
      "ON_RHole\n",
      "['img', 'lumen', 'media']\n",
      "img\n",
      "Select\n",
      "(1358, 256, 256)\n",
      "(1358, 256, 256)\n",
      "lumen\n",
      "(1358, 512, 512)\n",
      "(1358, 512, 512)\n",
      "media\n",
      "(1358, 512, 512)\n",
      "(1358, 512, 512)\n",
      "Done ON_RHole.mat\n",
      "processed_augmentations\\ON_RLeak\n",
      "ON_RLeak\n",
      "['img', 'lumen', 'media']\n",
      "img\n",
      "Select\n",
      "(5434, 256, 256)\n",
      "(5434, 256, 256)\n",
      "lumen\n",
      "(5434, 512, 512)\n",
      "(5434, 512, 512)\n",
      "media\n",
      "(5434, 512, 512)\n",
      "(5434, 512, 512)\n",
      "Done ON_RLeak.mat\n",
      "processed_augmentations\\ON_RSide\n",
      "ON_RSide\n",
      "['img', 'lumen', 'media']\n",
      "img\n",
      "Select\n",
      "(1358, 256, 256)\n",
      "(1358, 256, 256)\n",
      "lumen\n",
      "(1358, 512, 512)\n",
      "(1358, 512, 512)\n",
      "media\n",
      "(1358, 512, 512)\n",
      "(1358, 512, 512)\n",
      "Done ON_RSide.mat\n"
     ]
    }
   ],
   "source": [
    "img = [ON_R_img]\n",
    "lumen = [ON_R_lumen]\n",
    "media = [ON_R_media]\n",
    "for fname in files:\n",
    "    data_dir = fname.split('.')[0]\n",
    "    data_name = fname.split('.')[0]\n",
    "    data_dir = path.join(meta_dir, data_dir)\n",
    "    print(data_dir)\n",
    "    try:\n",
    "        os.listdir(data_dir)\n",
    "    except:\n",
    "        os.mkdir(data_dir)\n",
    "    with h5py.File(path.join(source_dir, fname), 'r') as file:\n",
    "        try:\n",
    "            int(data_name[-1])\n",
    "            data_name = data_name[:-1]\n",
    "        except:\n",
    "            if data_name[-1] == 'n':\n",
    "                data_name = data_name[:-1]\n",
    "            pass\n",
    "        print(data_name)\n",
    "        keys = list((file[data_name]['train']))\n",
    "        print(keys)\n",
    "        for dataset in ['train']:\n",
    "            idx = None\n",
    "            for k in keys:\n",
    "                print(k)\n",
    "                data = file[data_name][dataset][k]\n",
    "                data = np.array(data)\n",
    "                if idx is None:\n",
    "                    print('Select')\n",
    "                    idx = np.random.choice(data.shape[0], data.shape[0] // 8)\n",
    "                data = switch_dim(data[idx])\n",
    "                print(data.shape)\n",
    "                if dataset == 'train':\n",
    "                    if k == 'img':\n",
    "                        img.append(data)\n",
    "                    if k == 'lumen':\n",
    "                        lumen.append(data)\n",
    "                    if k == 'media':\n",
    "                        media.append(data)\n",
    "                    print(data.shape)\n",
    "        print('Done', fname)"
   ]
  },
  {
   "cell_type": "code",
   "execution_count": 5,
   "metadata": {},
   "outputs": [],
   "source": [
    "!cp processed_augmentations/ON_R/test* processed_augmentations/ON_Combined_Sampled/"
   ]
  },
  {
   "cell_type": "code",
   "execution_count": 6,
   "metadata": {},
   "outputs": [],
   "source": [
    "import gc"
   ]
  },
  {
   "cell_type": "code",
   "execution_count": 7,
   "metadata": {},
   "outputs": [
    {
     "name": "stdout",
     "output_type": "stream",
     "text": [
      "(11760, 256, 256)\n"
     ]
    },
    {
     "data": {
      "text/plain": [
       "0"
      ]
     },
     "execution_count": 7,
     "metadata": {},
     "output_type": "execute_result"
    }
   ],
   "source": [
    "img_ = np.vstack(img)\n",
    "print(img_.shape)\n",
    "del img\n",
    "gc.collect()\n",
    "np.save('./processed_augmentations/ON_Combined_Sampled/train_img_256.npy', img_)\n",
    "del img_\n",
    "gc.collect()"
   ]
  },
  {
   "cell_type": "code",
   "execution_count": 8,
   "metadata": {},
   "outputs": [
    {
     "name": "stdout",
     "output_type": "stream",
     "text": [
      "(11760, 512, 512)\n"
     ]
    },
    {
     "data": {
      "text/plain": [
       "0"
      ]
     },
     "execution_count": 8,
     "metadata": {},
     "output_type": "execute_result"
    }
   ],
   "source": [
    "lumen_ = np.vstack(lumen)\n",
    "print(lumen_.shape)\n",
    "del lumen\n",
    "gc.collect()\n",
    "np.save('./processed_augmentations/ON_Combined_Sampled/train_lumen_512.npy', lumen_)\n",
    "del lumen_\n",
    "gc.collect()"
   ]
  },
  {
   "cell_type": "code",
   "execution_count": 9,
   "metadata": {},
   "outputs": [
    {
     "name": "stdout",
     "output_type": "stream",
     "text": [
      "(11760, 512, 512)\n"
     ]
    },
    {
     "data": {
      "text/plain": [
       "0"
      ]
     },
     "execution_count": 9,
     "metadata": {},
     "output_type": "execute_result"
    }
   ],
   "source": [
    "media_ = np.vstack(media)\n",
    "print(media_.shape)\n",
    "del media\n",
    "gc.collect()\n",
    "np.save('./processed_augmentations/ON_Combined_Sampled/train_media_512.npy', media_)\n",
    "del media_\n",
    "gc.collect()"
   ]
  },
  {
   "cell_type": "code",
   "execution_count": null,
   "metadata": {},
   "outputs": [],
   "source": []
  }
 ],
 "metadata": {
  "kernelspec": {
   "display_name": "Python 3",
   "language": "python",
   "name": "python3"
  },
  "language_info": {
   "codemirror_mode": {
    "name": "ipython",
    "version": 3
   },
   "file_extension": ".py",
   "mimetype": "text/x-python",
   "name": "python",
   "nbconvert_exporter": "python",
   "pygments_lexer": "ipython3",
   "version": "3.6.5"
  }
 },
 "nbformat": 4,
 "nbformat_minor": 2
}
