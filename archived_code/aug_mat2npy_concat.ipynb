{
 "cells": [
  {
   "cell_type": "code",
   "execution_count": 1,
   "metadata": {},
   "outputs": [
    {
     "name": "stderr",
     "output_type": "stream",
     "text": [
      "e:\\miniconda\\lib\\site-packages\\h5py\\__init__.py:36: FutureWarning: Conversion of the second argument of issubdtype from `float` to `np.floating` is deprecated. In future, it will be treated as `np.float64 == np.dtype(float).type`.\n",
      "  from ._conv import register_converters as _register_converters\n"
     ]
    }
   ],
   "source": [
    "import os\n",
    "import os.path as path\n",
    "\n",
    "import h5py\n",
    "import numpy as np"
   ]
  },
  {
   "cell_type": "code",
   "execution_count": 2,
   "metadata": {},
   "outputs": [
    {
     "data": {
      "text/plain": [
       "['ON_RSide.mat']"
      ]
     },
     "execution_count": 2,
     "metadata": {},
     "output_type": "execute_result"
    }
   ],
   "source": [
    "source_dir = 'augmentations/concat'\n",
    "meta_dir = 'processed_augmentations'\n",
    "\n",
    "try:\n",
    "    os.listdir(meta_dir)\n",
    "except:\n",
    "    os.mkdir(meta_dir)\n",
    "    \n",
    "switch_dim = lambda x: np.rollaxis(x, -1, -2)\n",
    "    \n",
    "files = [i for i in os.listdir(source_dir) if i[-3:] == 'mat']\n",
    "files"
   ]
  },
  {
   "cell_type": "code",
   "execution_count": 3,
   "metadata": {},
   "outputs": [
    {
     "data": {
      "text/plain": [
       "(893, 256, 256)"
      ]
     },
     "execution_count": 3,
     "metadata": {},
     "output_type": "execute_result"
    }
   ],
   "source": [
    "folder = 'processed_augmentations/ON_R/'\n",
    "ON_R_img = np.load('processed_augmentations/ON_R/train_img_256.npy')\n",
    "ON_R_lumen = np.load('processed_augmentations/ON_R/train_lumen_512.npy')\n",
    "ON_R_media = np.load('processed_augmentations/ON_R/train_media_512.npy')\n",
    "ON_R_img.shape"
   ]
  },
  {
   "cell_type": "code",
   "execution_count": 5,
   "metadata": {},
   "outputs": [
    {
     "name": "stdout",
     "output_type": "stream",
     "text": [
      "processed_augmentations\\ON_RSide\n",
      "ON_RSide\n",
      "['img', 'lumen', 'media']\n",
      "img\n",
      "(10868, 256, 256)\n",
      "(11761, 256, 256)\n",
      "lumen\n",
      "(10868, 512, 512)\n",
      "(11761, 512, 512)\n",
      "media\n",
      "(10868, 512, 512)\n",
      "(11761, 512, 512)\n"
     ]
    }
   ],
   "source": [
    "for fname in files:\n",
    "    data_dir = fname.split('.')[0]\n",
    "    data_name = fname.split('.')[0]\n",
    "    data_dir = path.join(meta_dir, data_dir)\n",
    "    print(data_dir)\n",
    "    try:\n",
    "        os.listdir(data_dir)\n",
    "    except:\n",
    "        os.mkdir(data_dir)\n",
    "    with h5py.File(path.join(source_dir, fname), 'r') as file:\n",
    "        try:\n",
    "            int(data_name[-1])\n",
    "            data_name = data_name[:-1]\n",
    "        except:\n",
    "            if data_name[-1] == 'n':\n",
    "                data_name = data_name[:-1]\n",
    "            pass\n",
    "        print(data_name)\n",
    "        keys = list((file[data_name]['train']))\n",
    "        print(keys)\n",
    "        for dataset in ['train']:\n",
    "            for k in keys:\n",
    "                print(k)\n",
    "                data = file[data_name][dataset][k]\n",
    "                data = switch_dim(np.array(data))\n",
    "                print(data.shape)\n",
    "                if dataset == 'train':\n",
    "                    if k == 'img':\n",
    "                        data = np.vstack([data, ON_R_img])\n",
    "                    if k == 'lumen':\n",
    "                        data = np.vstack([data, ON_R_lumen])\n",
    "                    if k == 'media':\n",
    "                        data = np.vstack([data, ON_R_media])\n",
    "                    print(data.shape)\n",
    "                np.save(path.join(data_dir, '{}_{}_{}.npy'.format(dataset, k, data.shape[1])), data)"
   ]
  },
  {
   "cell_type": "code",
   "execution_count": null,
   "metadata": {},
   "outputs": [],
   "source": []
  }
 ],
 "metadata": {
  "kernelspec": {
   "display_name": "Python 3",
   "language": "python",
   "name": "python3"
  },
  "language_info": {
   "codemirror_mode": {
    "name": "ipython",
    "version": 3
   },
   "file_extension": ".py",
   "mimetype": "text/x-python",
   "name": "python",
   "nbconvert_exporter": "python",
   "pygments_lexer": "ipython3",
   "version": "3.6.5"
  }
 },
 "nbformat": 4,
 "nbformat_minor": 2
}
