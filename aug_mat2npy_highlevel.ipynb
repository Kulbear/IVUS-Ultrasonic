{
 "cells": [
  {
   "cell_type": "code",
   "execution_count": null,
   "metadata": {},
   "outputs": [],
   "source": [
    "import os\n",
    "import os.path as path\n",
    "\n",
    "import h5py\n",
    "import numpy as np"
   ]
  },
  {
   "cell_type": "code",
   "execution_count": null,
   "metadata": {},
   "outputs": [],
   "source": [
    "source_dir = 'augmentations'\n",
    "meta_dir = 'processed_augmentations'\n",
    "\n",
    "try:\n",
    "    os.listdir(meta_dir)\n",
    "except:\n",
    "    os.mkdir(meta_dir)\n",
    "    \n",
    "switch_dim = lambda x: np.rollaxis(x, -1, -2)\n",
    "    \n",
    "files = [i for i in os.listdir(source_dir) if i[-3:] == 'mat']\n",
    "files"
   ]
  },
  {
   "cell_type": "code",
   "execution_count": null,
   "metadata": {},
   "outputs": [],
   "source": [
    "for fname in files:\n",
    "    data_dir = fname.split('.')[0]\n",
    "    data_name = fname.split('.')[0]\n",
    "    data_dir = path.join(meta_dir, data_dir)\n",
    "    print(data_dir)\n",
    "    try:\n",
    "        os.listdir(data_dir)\n",
    "    except:\n",
    "        os.mkdir(data_dir)\n",
    "    with h5py.File(path.join(source_dir, fname), 'r') as file:\n",
    "        try:\n",
    "            int(data_name[-1])\n",
    "            data_name = data_name[:-1]\n",
    "        except:\n",
    "            if data_name[-1] == 'n':\n",
    "                data_name = data_name[:-1]\n",
    "            pass\n",
    "        keys = list((file[data_name]['train']))\n",
    "        for k in keys:\n",
    "            print(k)\n",
    "            data = file[data_name]['train'][k]\n",
    "            data = switch_dim(np.array(data))\n",
    "            print(data.shape)\n",
    "            np.save(path.join(data_dir, 'train_{}_{}.npy'.format(k, data.shape[1])), data)\n",
    "\n",
    "#         keys = list((file[data_name]['test']))\n",
    "#         for k in keys:\n",
    "#             print(k)\n",
    "#             data = file[data_name]['test'][k]\n",
    "#             data = switch_dim(np.array(data))\n",
    "#             print(data.shape)\n",
    "#             np.save(path.join(data_dir, 'test_{}_{}.npy'.format(k, data.shape[1])), data)"
   ]
  },
  {
   "cell_type": "code",
   "execution_count": null,
   "metadata": {},
   "outputs": [],
   "source": []
  }
 ],
 "metadata": {
  "kernelspec": {
   "display_name": "Python 3",
   "language": "python",
   "name": "python3"
  },
  "language_info": {
   "codemirror_mode": {
    "name": "ipython",
    "version": 3
   },
   "file_extension": ".py",
   "mimetype": "text/x-python",
   "name": "python",
   "nbconvert_exporter": "python",
   "pygments_lexer": "ipython3",
   "version": "3.6.5"
  }
 },
 "nbformat": 4,
 "nbformat_minor": 2
}
